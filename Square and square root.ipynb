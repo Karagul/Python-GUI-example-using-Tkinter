{
 "cells": [
  {
   "cell_type": "code",
   "execution_count": 17,
   "metadata": {},
   "outputs": [],
   "source": [
    "import tkinter as tk\n",
    "\n",
    "root= tk.Tk()\n",
    "\n",
    "root.resizable(0, 0)\n",
    "\n",
    "root.title(\"Square root\")\n",
    "\n",
    "canvas1 = tk.Canvas(root, width = 500, height = 400,  relief = 'raised',bg=\"white\")\n",
    "canvas1.pack()\n",
    "\n",
    "label1 = tk.Label(root, text='Calculate the Square and square root of number')\n",
    "label1.config(font=('helvetica', 14),bg=\"white\")\n",
    "canvas1.create_window(250, 25, window=label1)\n",
    "\n",
    "label2 = tk.Label(root, text='Enter the Number:')\n",
    "label2.config(font=('helvetica', 12),bg=\"white\")\n",
    "canvas1.create_window(130, 100, window=label2)\n",
    "\n",
    "entry1 = tk.Entry (root, font = ('helvetica', 12, 'bold'), borderwidth=2) \n",
    "canvas1.create_window(330, 100, window=entry1)\n",
    "\n",
    "\n",
    "def getSquareRoot ():\n",
    "    \n",
    "    x1 = entry1.get()\n",
    "    \n",
    "    label3 = tk.Label(root, text= 'The Square Root of ' + x1 + ' is:',font=('helvetica', 14),bg=\"white\")\n",
    "    canvas1.create_window(190, 250, window=label3)\n",
    "    \n",
    "    label4 = tk.Label(root, text= float(x1)**0.5,font=('helvetica', 14, 'bold'),bg=\"white\")\n",
    "    canvas1.create_window(350, 250, window=label4)\n",
    "    \n",
    "def getSquare ():\n",
    "    \n",
    "    x1 = entry1.get()\n",
    "    \n",
    "    label5 = tk.Label(root, text= 'The Square of ' + x1 + ' is:',font=('helvetica', 14),bg=\"white\")\n",
    "    canvas1.create_window(180, 300, window=label5)\n",
    "    \n",
    "    label6 = tk.Label(root, text= float(x1)**2,font=('helvetica', 14, 'bold'),bg=\"white\")\n",
    "    canvas1.create_window(350, 300, window=label6)\n",
    "    \n",
    "button1 = tk.Button(text='Get the Square Root', command=getSquareRoot, bg='black', fg='white', font=('helvetica', 9, 'bold'))\n",
    "canvas1.create_window(150, 180, window=button1)\n",
    "\n",
    "button2 = tk.Button(text='Get the Square', command=getSquare, bg='black', fg='white', font=('helvetica', 9, 'bold'))\n",
    "canvas1.create_window(350, 180, window=button2)\n",
    "\n",
    "root.mainloop()"
   ]
  },
  {
   "cell_type": "code",
   "execution_count": null,
   "metadata": {},
   "outputs": [],
   "source": []
  }
 ],
 "metadata": {
  "kernelspec": {
   "display_name": "Python 3",
   "language": "python",
   "name": "python3"
  },
  "language_info": {
   "codemirror_mode": {
    "name": "ipython",
    "version": 3
   },
   "file_extension": ".py",
   "mimetype": "text/x-python",
   "name": "python",
   "nbconvert_exporter": "python",
   "pygments_lexer": "ipython3",
   "version": "3.7.3"
  }
 },
 "nbformat": 4,
 "nbformat_minor": 2
}
